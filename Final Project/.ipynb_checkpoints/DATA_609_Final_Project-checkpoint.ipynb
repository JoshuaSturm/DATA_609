{
 "cells": [
  {
   "cell_type": "markdown",
   "metadata": {},
   "source": [
    "# Introduction\n",
    "\n",
    "Airlines have made headlines in recent months for ‘bumping’ passengers from their flights. Passenger airlines (and many other industries, including hospitality) sell more seats than they have available, with the expectation that a percentage of their customers will not show up. This allows the company to ensure that they are always running at full capacity. While this makes economic sense, it is a delicate balance - if they operate under capacity, they are losing revenue; if they book too many customers, they will need to cancel reservations. This can lead to additional lost revenue in the form of vouchers, as well as a potential public relations fallout if handled improperly.\n",
    "\n",
    "The goal of this project is to run a Monte Carlo simulation to predict the optimal number of passengers to book for a given flight."
   ]
  },
  {
   "cell_type": "markdown",
   "metadata": {},
   "source": [
    "# Data\n",
    "\n",
    "Data will be sourced from official statistics where available. In the event that I am unable to procure concrete numbers during my research, I will create my own based on the information available."
   ]
  },
  {
   "cell_type": "markdown",
   "metadata": {},
   "source": [
    "# Preliminary Exploration\n",
    "\n",
    "In order to devise a formula for estimation, we will first need to define several variables.\n",
    "\n",
    "#### Number of Seats\n",
    "\n",
    "According to the [MIT Airline Data Project](http://web.mit.edu/airlinedata/www/Aircraft&Related.html), there was an average of 178 available seats per aircraft on US domestic carriers in 2017.\n",
    "\n",
    "Thus, we will define the variable for number of seats as `num_seats` $= 178$.\n",
    "\n",
    "#### Probability of Passenger Catching Flight\n",
    "\n",
    "It's impossible to find an exact number for the number of no-shows on US flights, since these figures are not made public by the airlines. [Some](https://www.quora.com/What-is-the-no-show-rate-for-airlines/answer/David-Watson-329) sources suggest between 1-1.5%, while [others](https://www.linkedin.com/pulse/united-airlines-how-overbook-flight-mathematical-version-dror-guzman) put it much higher, in the range of 5-10%. I will use 5%, as I believe it to be closer to the true probability.\n",
    "\n",
    "Thus, we will assign the probability that a passenger shows up to the flight to be `passenger_show` $= 0.95$.\n",
    "\n",
    "#### Ticket Cost\n",
    "\n",
    "According to the [Bureau of Transportation Statistics](https://www.transtats.bts.gov/AIRFARES/), the average price of a ticket for a domestic flight in the US in 2017 was \\\\$$347.73$. For the sake of mathematical simplicity, we will round this number up to a flat \\\\$$348$.\n",
    "\n",
    "Thus, we will define the variable for the cost of a ticket as `ticket_price` $= 348$. \n",
    "\n",
    "#### Voucher Value\n",
    "\n",
    "The federal government regulates the market, and has granted consumers specific rights to protect them from harmful business practices. In most scenarios when a passenger is bumped, they are entitled to some form of compensation from the airline, be it cash or a voucher to use on a future flight. As outlined by the [BTS](https://www.transportation.gov/individuals/aviation-consumer-protection/bumping-oversales), passengers bumped from a domestic flight are typically entitled to (a minimum of) 200\\% of their ticket cost. \n",
    "\n",
    "Thus, we will define the variable for voucher as `voucher` $= 2 \\ \\times$ `ticket_price`."
   ]
  },
  {
   "cell_type": "markdown",
   "metadata": {},
   "source": [
    "# Building the Model"
   ]
  },
  {
   "cell_type": "markdown",
   "metadata": {},
   "source": [
    "#### Number of Passengers\n",
    "\n",
    "Our first step to building the model is to determine the number of passengers that show up and make (i.e. catch) their flight."
   ]
  },
  {
   "cell_type": "code",
   "execution_count": 2,
   "metadata": {},
   "outputs": [],
   "source": [
    "import numpy as np\n",
    "\n",
    "def num_of_passengers(passenger_show, num_tickets):\n",
    "    \n",
    "    '''\n",
    "    This function will simulate the number of passengers who have a reservation and will actually\n",
    "    make it on board, based on the probability and number of tickets sold given above.\n",
    "    '''\n",
    "    \n",
    "    # Generate n = num_seats random numbers from the uniform distribution\n",
    "    random_passengers = np.random.uniform(size=num_tickets)\n",
    "    num_passengers = sum(i < passenger_show for i in random_passengers)\n",
    "    \n",
    "    return(num_passengers)"
   ]
  },
  {
   "cell_type": "markdown",
   "metadata": {},
   "source": [
    "#### Revenue Earned\n",
    "\n",
    "Once we know the number of customers that purchased a ticket and made their flight, we can calculate the revenue earned from ticket sales.  \n",
    "If the number of passengers was less than or equal to the number of seats available on the plane, then the revenue is simply the product of the number of tickets sold and the price of each ticket.  \n",
    "If too many passengers showed, we would need to bump and compensate all those beyond seating capacity. This number, multiplied by the value of each voucher, would be subtracted from revenue earned from ticket sales."
   ]
  },
  {
   "cell_type": "code",
   "execution_count": 3,
   "metadata": {},
   "outputs": [],
   "source": [
    "def calculate_revenue(passenger_show, num_seats, num_tickets, ticket_price, voucher):\n",
    "    \n",
    "    '''\n",
    "    This function will calculate the revenue earned on a flight, given the number of seats, the number of tickets sold,\n",
    "    the ticket price, the number of bumped passengers, and voucher amount.\n",
    "    '''\n",
    "    \n",
    "    num_passengers = num_of_passengers(passenger_show, num_tickets)\n",
    "    \n",
    "    if num_passengers > num_seats:\n",
    "        excess_tickets = num_passengers - num_seats\n",
    "        revenue = (num_seats * ticket_price) - (excess_tickets * voucher)\n",
    "    else:\n",
    "        revenue = num_passengers * ticket_price\n",
    "    return(revenue)"
   ]
  },
  {
   "cell_type": "markdown",
   "metadata": {},
   "source": [
    "#### Flight Simulator!\n",
    "\n",
    "With the above two functions, we'll be able to calculate the number of passengers, and the revenue earned for each flight.  \n",
    "We'll now create a function to simulate a large number of flights, in order to give us a good approximation of the optimal number of excess tickets to sell."
   ]
  },
  {
   "cell_type": "code",
   "execution_count": 13,
   "metadata": {},
   "outputs": [],
   "source": [
    "import pandas as pd\n",
    "\n",
    "def flight_simulator(passenger_show, num_seats, num_tickets, ticket_price, voucher):\n",
    "    \n",
    "    '''\n",
    "    This function run the two previous ones a (user-defined) number of times for each extra ticket sold beyond capacity. \n",
    "    '''\n",
    "    \n",
    "    cols = ['Num_Extra_Tickets', 'Flight_number', 'Revenue']\n",
    "    revdf = pd.DataFrame(index = range(200000), columns = cols)\n",
    "    \n",
    "    index = 0\n",
    "    for i in range(0, 20):\n",
    "        num_tickets = num_seats + i\n",
    "        for j in range(0, 10000):\n",
    "            rev = calculate_revenue(passenger_show, num_seats, num_tickets, ticket_price, voucher)\n",
    "            revdf.iloc[index, ] = [i, j, rev]\n",
    "            index += 1\n",
    "    revdf.to_csv(\"results.csv\")    "
   ]
  },
  {
   "cell_type": "markdown",
   "metadata": {},
   "source": [
    "# Results\n",
    "\n",
    "The simulation was performed using anywhere from 0 to 19 extra tickets, with 10,000 runs for each case.  \n",
    "I used the following variables:\n",
    "\n",
    "- `num_seats` $= 178$  \n",
    "- `passenger_show` $= 0.95$  \n",
    "- `ticket_price` $= 348$  \n",
    "- `voucher` $= 2 \\ \\times $ `ticket_price`\n",
    "\n",
    "Below is a boxplot with the mean revenue earned based on the number of extra tickets sold."
   ]
  },
  {
   "cell_type": "code",
   "execution_count": 26,
   "metadata": {},
   "outputs": [
    {
     "data": {
      "image/png": "[encoded data removed]",
      "text/plain": [
       "<matplotlib.figure.Figure at 0x1c455eb7f28>"
      ]
     },
     "metadata": {},
     "output_type": "display_data"
    }
   ],
   "source": [
    "import seaborn as sns\n",
    "\n",
    "df = pd.read_csv('results.csv', usecols = ['Num_Extra_Tickets', 'Revenue'])\n",
    "df.groupby(\"Num_Extra_Tickets\").aggregate(\"mean\")\n",
    "\n",
    "bp = sns.boxplot(x = \"Num_Extra_Tickets\", y = \"Revenue\", data = df, palette=\"Set3\")"
   ]
  },
  {
   "cell_type": "code",
   "execution_count": 73,
   "metadata": {},
   "outputs": [
    {
     "data": {
      "image/png": "[encoded data removed]",
      "text/plain": [
       "<matplotlib.figure.Figure at 0x1c45714df98>"
      ]
     },
     "metadata": {},
     "output_type": "display_data"
    }
   ],
   "source": [
    "df = pd.read_csv('results.csv', usecols = ['Num_Extra_Tickets', 'Revenue'])\n",
    "gdf = df.groupby(\"Num_Extra_Tickets\", as_index=False).agg(\"mean\")\n",
    "gdf = gdf.rename(columns = {\"Revenue\": \"Average_Revenue\"})\n",
    "bc = sns.barplot(x = \"Num_Extra_Tickets\", y = \"Average_Revenue\", palette=\"Blues_d\", data = gdf)"
   ]
  },
  {
   "cell_type": "code",
   "execution_count": 74,
   "metadata": {},
   "outputs": [
    {
     "data": {
      "text/html": [
       "<div>\n",
       "<style scoped>\n",
       "    .dataframe tbody tr th:only-of-type {\n",
       "        vertical-align: middle;\n",
       "    }\n",
       "\n",
       "    .dataframe tbody tr th {\n",
       "        vertical-align: top;\n",
       "    }\n",
       "\n",
       "    .dataframe thead th {\n",
       "        text-align: right;\n",
       "    }\n",
       "</style>\n",
       "<table border=\"1\" class=\"dataframe\">\n",
       "  <thead>\n",
       "    <tr style=\"text-align: right;\">\n",
       "      <th></th>\n",
       "      <th>Num_Extra_Tickets</th>\n",
       "      <th>Average_Revenue</th>\n",
       "    </tr>\n",
       "  </thead>\n",
       "  <tbody>\n",
       "    <tr>\n",
       "      <th>0</th>\n",
       "      <td>0</td>\n",
       "      <td>58857.5184</td>\n",
       "    </tr>\n",
       "    <tr>\n",
       "      <th>1</th>\n",
       "      <td>1</td>\n",
       "      <td>59161.1136</td>\n",
       "    </tr>\n",
       "    <tr>\n",
       "      <th>2</th>\n",
       "      <td>2</td>\n",
       "      <td>59498.1168</td>\n",
       "    </tr>\n",
       "    <tr>\n",
       "      <th>3</th>\n",
       "      <td>3</td>\n",
       "      <td>59819.5296</td>\n",
       "    </tr>\n",
       "    <tr>\n",
       "      <th>4</th>\n",
       "      <td>4</td>\n",
       "      <td>60108.2304</td>\n",
       "    </tr>\n",
       "    <tr>\n",
       "      <th>5</th>\n",
       "      <td>5</td>\n",
       "      <td>60429.6780</td>\n",
       "    </tr>\n",
       "    <tr>\n",
       "      <th>6</th>\n",
       "      <td>6</td>\n",
       "      <td>60657.5136</td>\n",
       "    </tr>\n",
       "    <tr>\n",
       "      <th>7</th>\n",
       "      <td>7</td>\n",
       "      <td>60811.1556</td>\n",
       "    </tr>\n",
       "    <tr>\n",
       "      <th>8</th>\n",
       "      <td>8</td>\n",
       "      <td>60858.4140</td>\n",
       "    </tr>\n",
       "    <tr>\n",
       "      <th>9</th>\n",
       "      <td>9</td>\n",
       "      <td>60784.7076</td>\n",
       "    </tr>\n",
       "    <tr>\n",
       "      <th>10</th>\n",
       "      <td>10</td>\n",
       "      <td>60558.7860</td>\n",
       "    </tr>\n",
       "    <tr>\n",
       "      <th>11</th>\n",
       "      <td>11</td>\n",
       "      <td>60229.3692</td>\n",
       "    </tr>\n",
       "    <tr>\n",
       "      <th>12</th>\n",
       "      <td>12</td>\n",
       "      <td>59823.4620</td>\n",
       "    </tr>\n",
       "    <tr>\n",
       "      <th>13</th>\n",
       "      <td>13</td>\n",
       "      <td>59320.4280</td>\n",
       "    </tr>\n",
       "    <tr>\n",
       "      <th>14</th>\n",
       "      <td>14</td>\n",
       "      <td>58750.0908</td>\n",
       "    </tr>\n",
       "    <tr>\n",
       "      <th>15</th>\n",
       "      <td>15</td>\n",
       "      <td>58158.9432</td>\n",
       "    </tr>\n",
       "    <tr>\n",
       "      <th>16</th>\n",
       "      <td>16</td>\n",
       "      <td>57541.4172</td>\n",
       "    </tr>\n",
       "    <tr>\n",
       "      <th>17</th>\n",
       "      <td>17</td>\n",
       "      <td>56895.0420</td>\n",
       "    </tr>\n",
       "    <tr>\n",
       "      <th>18</th>\n",
       "      <td>18</td>\n",
       "      <td>56218.3212</td>\n",
       "    </tr>\n",
       "    <tr>\n",
       "      <th>19</th>\n",
       "      <td>19</td>\n",
       "      <td>55529.9076</td>\n",
       "    </tr>\n",
       "  </tbody>\n",
       "</table>\n",
       "</div>"
      ],
      "text/plain": [
       "    Num_Extra_Tickets  Average_Revenue\n",
       "0                   0       58857.5184\n",
       "1                   1       59161.1136\n",
       "2                   2       59498.1168\n",
       "3                   3       59819.5296\n",
       "4                   4       60108.2304\n",
       "5                   5       60429.6780\n",
       "6                   6       60657.5136\n",
       "7                   7       60811.1556\n",
       "8                   8       60858.4140\n",
       "9                   9       60784.7076\n",
       "10                 10       60558.7860\n",
       "11                 11       60229.3692\n",
       "12                 12       59823.4620\n",
       "13                 13       59320.4280\n",
       "14                 14       58750.0908\n",
       "15                 15       58158.9432\n",
       "16                 16       57541.4172\n",
       "17                 17       56895.0420\n",
       "18                 18       56218.3212\n",
       "19                 19       55529.9076"
      ]
     },
     "execution_count": 74,
     "metadata": {},
     "output_type": "execute_result"
    }
   ],
   "source": [
    "gdf"
   ]
  },
  {
   "cell_type": "markdown",
   "metadata": {},
   "source": [
    "# Final Thoughts\n",
    "\n",
    "From the above charts and plots, we see that the airline (usually) earned the most revenue when they sold between six and eight tickets.  \n",
    "What's nice about the above functions, is that we could tinker with our assumptions and variables, which might hint which variables are most affecting revenue.\n",
    "\n",
    "I have some thoughts on expanding this program if someone would want to make it more rigorous for professional use.  \n",
    "The aircraft could be further divided based on cabin offerings (e.g. first class, business, economy). We would need to assign weights to each, since, for example, a bumped passenger with a first class ticket will be entitled to higher compensation, which detracts substantially more revenue.  \n",
    "Another idea would be to take into account the effect of bad PR. If an airline bumps passengers too often, consumers would be hesitant to fly with them in the future. If we could somehow quantify a value for a company's reputation, it could be built into the model."
   ]
  }
 ],
 "metadata": {
  "kernelspec": {
   "display_name": "Python 3",
   "language": "python",
   "name": "python3"
  },
  "language_info": {
   "codemirror_mode": {
    "name": "ipython",
    "version": 3
   },
   "file_extension": ".py",
   "mimetype": "text/x-python",
   "name": "python",
   "nbconvert_exporter": "python",
   "pygments_lexer": "ipython3",
   "version": "3.6.4"
  }
 },
 "nbformat": 4,
 "nbformat_minor": 2
}
